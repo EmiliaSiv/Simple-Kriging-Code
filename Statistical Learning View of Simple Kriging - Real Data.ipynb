{
 "cells": [
  {
   "cell_type": "markdown",
   "id": "40dbc8a8",
   "metadata": {},
   "source": [
    "# Imports"
   ]
  },
  {
   "cell_type": "code",
   "execution_count": 1,
   "id": "0362467b",
   "metadata": {},
   "outputs": [],
   "source": [
    "from gstools import SRF, Gaussian, Exponential, Cubic, Spherical, TPLSimple\n",
    "import numpy as np\n",
    "import csv\n",
    "from random import *\n",
    "import random\n",
    "import matplotlib as mpl\n",
    "import matplotlib.pyplot as plt"
   ]
  },
  {
   "cell_type": "markdown",
   "id": "859e6665",
   "metadata": {},
   "source": [
    "# Real Data"
   ]
  },
  {
   "cell_type": "markdown",
   "id": "7681bd7c",
   "metadata": {},
   "source": [
    "### 1) Initialisations"
   ]
  },
  {
   "cell_type": "markdown",
   "id": "ffc30b19",
   "metadata": {},
   "source": [
    "**Import real data:**"
   ]
  },
  {
   "cell_type": "code",
   "execution_count": 2,
   "id": "2d7e383f",
   "metadata": {},
   "outputs": [],
   "source": [
    "def date_correcte(l, date_corr):\n",
    "    taille = len(l)\n",
    "    count_point_virgule = 0\n",
    "    stop = False\n",
    "    for i in range(taille):\n",
    "        if l[i] == \";\" and not stop:\n",
    "            count_point_virgule += 1\n",
    "        if count_point_virgule == 2:\n",
    "            if l[i+1:i+9] == date_corr:\n",
    "                return True\n",
    "            else:\n",
    "                return False"
   ]
  },
  {
   "cell_type": "code",
   "execution_count": 3,
   "id": "c395d94c",
   "metadata": {},
   "outputs": [],
   "source": [
    "fichier = open(\"./Real_Data/Real_Data_N-2401.txt\", \"r\")\n",
    "lignes = fichier.readlines()\n",
    "fichier.close()"
   ]
  },
  {
   "cell_type": "markdown",
   "id": "e454d0d7",
   "metadata": {},
   "source": [
    "**All Data:**\n",
    "\n",
    "Domain $S$:\n",
    "\n",
    "- grid in $[0, 1]^2$\n",
    "\n",
    "- N points locations (discretization of the spatial domain)\n",
    "\n",
    "$\\Longrightarrow$ points\\_S table of points locations of size $(N, 2)$"
   ]
  },
  {
   "cell_type": "code",
   "execution_count": 4,
   "id": "4273c9ef",
   "metadata": {},
   "outputs": [],
   "source": [
    "def creation_domain_S(lignes, date_taille):\n",
    "    \n",
    "    N = 0\n",
    "    ligne_taille = list()\n",
    "    for ligne in lignes:\n",
    "        if ligne[0] != \"#\" and date_correcte(ligne, date_taille):\n",
    "            N += 1\n",
    "            ligne_taille.append(ligne)\n",
    "\n",
    "    Nx = int(np.sqrt(N))\n",
    "    points_S = np.zeros((N, 2))\n",
    "    i = 0\n",
    "    for ligne in ligne_taille:\n",
    "        points_S[i][0] = float(ligne[:8])\n",
    "        points_S[i][1] = float(ligne[9:16])\n",
    "        i += 1\n",
    "    \n",
    "    points_S_round = np.zeros((N, 2))\n",
    "    x_0 = np.round(points_S[1][0], 2)\n",
    "    y_0 = np.round(points_S[0][1], 2)\n",
    "    points_S_round[0][0] = x_0\n",
    "    points_S_round[0][1] = y_0\n",
    "    for i in range(1, N):\n",
    "        y_0 = y_0 + 0.1\n",
    "        if i%Nx == 0:\n",
    "            x_0 = x_0 + 0.07\n",
    "            y_0 = np.round(points_S[0][1], 2)\n",
    "        points_S_round[i][0] = x_0\n",
    "        points_S_round[i][1] = y_0\n",
    "    \n",
    "    return N, Nx, points_S_round"
   ]
  },
  {
   "cell_type": "markdown",
   "id": "572b6c3e",
   "metadata": {},
   "source": [
    "**Sizes:**\n",
    "\n",
    "- grid scale: $J$\n",
    "\n",
    "- number of observations for the training step: $n = (1 + 2^J)^2$\\\n",
    "    $\\Longrightarrow$ size of dyadic grid of observations ($n_x \\times n_x$): $n_x = 1 + 2^J$\n",
    "    \n",
    "- total number of points in $S$: $N = N_x^2$\\\n",
    "    $\\Longrightarrow$ size of \"grid\" of all points in $S$: $N_x = \\text{step} \\times (n_x - 1) + 1$, where step is a strictly positive constant describing the repartition of the observations $X'(\\sigma_n)$ on the spatial domain\n",
    "    \n",
    "- number of observations for the prediction step: $d$"
   ]
  },
  {
   "cell_type": "code",
   "execution_count": 5,
   "id": "51b4cafa",
   "metadata": {},
   "outputs": [
    {
     "name": "stdout",
     "output_type": "stream",
     "text": [
      "SIZE OF DOMAINS:\n",
      "\n",
      "Spatial domain S = [0, 1]^2\n",
      " Size: N = Nx * Nx =  49  *  49  =  2401 \n",
      "\n",
      "Dyadic grid at scale J =  4 \n",
      " Size: n = nx * nx =  17  *  17  =  289 \n",
      " \n",
      " \n",
      "\n",
      "NUMBER OF OBSERVATIONS:\n",
      "\n",
      "Number of observations for the training step\n",
      " n =  289 \n",
      "\n",
      "Number of observations for the prediction step\n",
      " d =  10\n"
     ]
    }
   ],
   "source": [
    "# DOMAIN S\n",
    "\n",
    "N, Nx, points_S = creation_domain_S(lignes, \"20050701\")\n",
    "\n",
    "J = 4\n",
    "nx = 1 + 2**J\n",
    "n = nx**2\n",
    "step = 3\n",
    "Nx_2 = step * (nx-1) + 1\n",
    "N_2 = Nx_2**2\n",
    "if N == N_2 and Nx == Nx_2:\n",
    "    print(\"SIZE OF DOMAINS:\\n\")\n",
    "    print(\"Spatial domain S = [0, 1]^2\\n\", \"Size: N = Nx * Nx = \", Nx, \" * \", Nx, \" = \", N, \"\\n\")\n",
    "    print(\"Dyadic grid at scale J = \", J, \"\\n\", \"Size: n = nx * nx = \", nx, \" * \", nx, \" = \", n, \"\\n \\n \\n\")\n",
    "    d = 10\n",
    "    print(\"NUMBER OF OBSERVATIONS:\\n\")\n",
    "    print(\"Number of observations for the training step\\n n = \", n, \"\\n\")\n",
    "    print(\"Number of observations for the prediction step\\n d = \", d)"
   ]
  },
  {
   "cell_type": "markdown",
   "id": "fceca3b7",
   "metadata": {},
   "source": [
    "**Parameters:**\n",
    "\n",
    "- parameters of the covariance function for Empirical Kriging: $\\theta$ and cov\\_type for the type of covariance (Gaussian, Exponential, Cubic, Spherical, TPL)\n",
    "\n",
    "- parameter for Empirical Kriging: $\\nu$\n",
    "\n",
    "- regularisation parameter for inverse matrix"
   ]
  },
  {
   "cell_type": "code",
   "execution_count": 6,
   "id": "c397be6c",
   "metadata": {},
   "outputs": [],
   "source": [
    "# PARAMETERS INITIALISATIONS\n",
    "\n",
    "# Parameter of covariance function for Parametric Kriging\n",
    "theta = 300\n",
    "# Type of covariance\n",
    "cov_type = 5\n",
    "\n",
    "# Parameter for Non parametric Kriging\n",
    "nu = 0.35\n",
    "\n",
    "# Regularisation Parameter\n",
    "reg = 0.1"
   ]
  },
  {
   "cell_type": "markdown",
   "id": "31b0da63",
   "metadata": {},
   "source": [
    "### 2) Training Data"
   ]
  },
  {
   "cell_type": "markdown",
   "id": "8c168584",
   "metadata": {},
   "source": [
    "Random field for Training step:\n",
    "\n",
    "$\\Longrightarrow$\n",
    "\n",
    "- vector of observations $X$ used for Kriging: $X'(\\sigma_n) = (X'_{\\sigma_1}, \\cdots, X'_{\\sigma_n})$ for training data and $X(s_d) = (X_{s_1}, \\cdots, X_{s_d})$ for prediction step\n",
    "\n",
    "- matrix X\\_tot of random field over all the spatial domain $S$"
   ]
  },
  {
   "cell_type": "code",
   "execution_count": 7,
   "id": "3c50ed8a",
   "metadata": {},
   "outputs": [],
   "source": [
    "def creation_random_field(N, lignes, date):\n",
    "\n",
    "    random_field = np.zeros(N)\n",
    "    i = 0\n",
    "    for ligne in lignes:\n",
    "        if ligne[0] != \"#\" and date_correcte(ligne, date):\n",
    "            label = float(ligne[40:46])\n",
    "            random_field[i] = label\n",
    "            i += 1\n",
    "    \n",
    "    return random_field"
   ]
  },
  {
   "cell_type": "code",
   "execution_count": 8,
   "id": "c6ef9dee",
   "metadata": {},
   "outputs": [],
   "source": [
    "def creation_training_dataset(n, tot_points, data_train, step):\n",
    "    \n",
    "    points_train = np.zeros((n, 2))\n",
    "    X_train = np.zeros(n)\n",
    "\n",
    "    points_train[0][0] = tot_points[0][0]\n",
    "    points_train[0][1] = tot_points[0][1]\n",
    "    X_train[0] = data_train[0]\n",
    "    \n",
    "    N = tot_points.shape[0]\n",
    "    Nx = int(np.sqrt(N))\n",
    "    \n",
    "    stop = False\n",
    "    count_stop = 0\n",
    "    j = 1\n",
    "    for i in range(1, N):\n",
    "        if i%Nx == 0 and not stop:\n",
    "            stop = True\n",
    "            count_stop += 1\n",
    "        elif i%Nx == 0 and stop and count_stop == step-1:\n",
    "            stop = False\n",
    "            count_stop = 0\n",
    "        elif i%Nx == 0 and stop and count_stop != step-1:\n",
    "            stop = True\n",
    "            count_stop += 1\n",
    "        if i%step == 0 and not stop:\n",
    "            points_train[j][0] = tot_points[i][0]\n",
    "            points_train[j][1] = tot_points[i][1]\n",
    "            X_train[j] = data_train[i]\n",
    "            j += 1\n",
    "    return points_train, X_train"
   ]
  },
  {
   "cell_type": "markdown",
   "id": "478a5402",
   "metadata": {},
   "source": [
    "### 3) Prediciton Data"
   ]
  },
  {
   "cell_type": "code",
   "execution_count": 9,
   "id": "1b660e68",
   "metadata": {},
   "outputs": [],
   "source": [
    "def duplicat_sd(tab, a):\n",
    "    n = tab.shape[0]\n",
    "    for i in range(n):\n",
    "        if np.all(tab[i] == a):\n",
    "            return True\n",
    "    return False\n",
    "\n",
    "\n",
    "def creation_testing_dataset(d, tot_points, data_test, seed):\n",
    "    \n",
    "    random.seed(seed)\n",
    "\n",
    "    points_test = np.zeros((d, 2))\n",
    "    X_test = np.zeros(d)\n",
    "    \n",
    "    N = tot_points.shape[0]\n",
    "    \n",
    "    for i in range(d):\n",
    "        ind_rand = randint(0, N-1)\n",
    "        while duplicat_sd(points_test, tot_points[ind_rand]):\n",
    "            ind_rand = randint(0, N-1)\n",
    "        points_test[i] = tot_points[ind_rand]\n",
    "        X_test[i] = data_test[ind_rand]\n",
    "    \n",
    "    return points_test, X_test"
   ]
  },
  {
   "cell_type": "markdown",
   "id": "736aa1a5",
   "metadata": {},
   "source": [
    "### 4) Plotting Field"
   ]
  },
  {
   "cell_type": "markdown",
   "id": "82c9ff02",
   "metadata": {},
   "source": [
    "Generalized function for plotting a field:\n",
    "\n",
    "- random field (training data or predicition data)\n",
    "\n",
    "- Kriging result (theoretical or empirical)\n",
    "\n",
    "- quadratic difference (theoretical or empirical)\n",
    "\n",
    "- covariance model used for repository\n",
    "\n",
    "- theta used for file name"
   ]
  },
  {
   "cell_type": "code",
   "execution_count": 25,
   "id": "bee10c16",
   "metadata": {},
   "outputs": [],
   "source": [
    "def affichage_field(tot_points, field, points_obs, train_or_test, affichage):\n",
    "     \n",
    "    N = field.shape[0]\n",
    "    Nx = int(np.sqrt(N))\n",
    "     \n",
    "    field_aff = np.zeros((Nx, Nx))\n",
    "    k = 0\n",
    "    l = 0\n",
    "    for i in range(N):\n",
    "        field_aff[k][l] = field[i]\n",
    "        l += 1\n",
    "        if l == Nx:\n",
    "            k += 1\n",
    "            l = 0\n",
    "            \n",
    "    if affichage == True:\n",
    "        \n",
    "        point_min_x = tot_points[:, 0].min()\n",
    "        point_max_x = tot_points[:, 0].max()\n",
    "        point_min_y = tot_points[:, 1].min()\n",
    "        point_max_y = tot_points[:, 1].max()\n",
    "        \n",
    "\n",
    "        \n",
    "        fig = plt.figure(1, figsize=(6, 5))\n",
    "        ax = fig.add_subplot(111)\n",
    "        orig_map=plt.cm.get_cmap('autumn')\n",
    "        reversed_map = orig_map.reversed()\n",
    "        plt.imshow(field_aff.T, origin=\"lower\", extent=[point_min_x, point_max_x, point_min_y, point_max_y], cmap = reversed_map)\n",
    "        \n",
    "        ax.set_aspect(1.0/ax.get_data_ratio(), adjustable='box')\n",
    "        \n",
    "        bound_min = np.round(field.min(), decimals=3)\n",
    "        bound_max = np.round(field.max(), decimals=3)\n",
    "        cmap = reversed_map # mpl.cm.viridis\n",
    "        norm = mpl.colors.Normalize(vmin=bound_min, vmax=bound_max)\n",
    "        fig.colorbar(\n",
    "            mpl.cm.ScalarMappable(cmap=cmap, norm=norm),\n",
    "            extend='both',\n",
    "            extendfrac='auto',\n",
    "            spacing='uniform',\n",
    "        )\n",
    "        \n",
    "        if train_or_test == 0:\n",
    "            color = 'red'\n",
    "            name_fig = 'Training_Data.png'\n",
    "        else:\n",
    "            color = 'cyan' # 'mediumorchid'\n",
    "            name_fig = 'Testing_Data.png'\n",
    "        \n",
    "        #plt.scatter(points_obs[:,0], points_obs[:,1], s=20, c=color, marker='o')\n",
    "        \n",
    "        directory = \"./Results/RealData/\"\n",
    "        plt.savefig(directory + name_fig)\n",
    "        plt.show()\n",
    "\n",
    "    return field_aff\n",
    "\n",
    "\n",
    "def plotting_field(field, points_obs, bounds_extent, params):\n",
    "    # params[0]: kriging result, quadratic difference, MSE\n",
    "    # params[1]: parametric, nonparametric\n",
    "    \n",
    "    plt.rc('xtick', labelsize=16) \n",
    "    plt.rc('ytick', labelsize=16)\n",
    "    \n",
    "    fig = plt.figure(1, figsize=(6, 5))\n",
    "    ax = fig.add_subplot(111)\n",
    "    plt.imshow(field.T, origin=\"lower\", extent=bounds_extent)\n",
    "    \n",
    "    ax.set_aspect(1.0/ax.get_data_ratio(), adjustable='box')\n",
    "    plt.scatter(points_obs[:,0], points_obs[:,1], s=40, c='red', marker='o')\n",
    "    \n",
    "    # Echelle\n",
    "    bound_min = np.round(field.min(), decimals=3)\n",
    "    bound_max = np.round(field.max(), decimals=3)\n",
    "    cmap = mpl.cm.viridis\n",
    "    norm = mpl.colors.Normalize(vmin=bound_min, vmax=bound_max)\n",
    "    fig.colorbar(\n",
    "        mpl.cm.ScalarMappable(cmap=cmap, norm=norm),\n",
    "        extend='both',\n",
    "        extendfrac='auto',\n",
    "        spacing='uniform',\n",
    "    )\n",
    "    \n",
    "    if params[0] == 0:\n",
    "        if params[1] == 0:\n",
    "            title = \"Parametric Kriging Result (with observed points)\"\n",
    "            name_fig = \"Parametric_Kriging.png\"\n",
    "        else:\n",
    "            title = \"Nonparametric Kriging Result (with observed points)\"\n",
    "            name_fig = \"Nonparametric_Kriging.png\"\n",
    "    elif params[0] == 1:\n",
    "        if params[1] == 0:\n",
    "            title = \"Quadratic Difference for Parametric Kriging (with observed points)\"\n",
    "            name_fig = \"Parametric_QD.png\"\n",
    "        else:\n",
    "            title = \"Quadratic Difference for Nonparametric Kriging (with observed points)\"\n",
    "            name_fig = \"Nonparametric_QD.png\"\n",
    "    else:\n",
    "        if params[1] == 0:\n",
    "            title = \"MSE map for Parametric Kriging (with observed points)\"\n",
    "            name_fig = \"Parametric_MSE.png\"\n",
    "        else:\n",
    "            title = \"MSE map for Nonparametric Kriging (with observed points)\"\n",
    "            name_fig = \"Nonparametric_MSE.png\"\n",
    "            \n",
    "    # plt.title(title)\n",
    "    \n",
    "    directory = \"./Results/RealData/\"\n",
    "    plt.savefig(directory + name_fig)\n",
    "    plt.show()"
   ]
  },
  {
   "cell_type": "markdown",
   "id": "64712f9f",
   "metadata": {},
   "source": [
    "# Parametric Kriging"
   ]
  },
  {
   "cell_type": "markdown",
   "id": "c4ec126d",
   "metadata": {},
   "source": [
    "### Model of covariance"
   ]
  },
  {
   "cell_type": "markdown",
   "id": "9d792893",
   "metadata": {},
   "source": [
    "- Gaussian model:\n",
    "$$c : h \\in [0,+\\infty) \\mapsto \\exp\\left(-h^2/\\theta^2\\right)$$\n",
    "\n",
    "- Exponential model:\n",
    "$$c : h \\in [0,+\\infty) \\mapsto \\exp\\left(-h/\\theta\\right)$$\n",
    "\n",
    "- Cubic:\n",
    "$$c : h \\in [0,+\\infty) \\mapsto \\left(1 - \\left(7 \\frac{h^2}{\\theta^2} - \\frac{35}{4}\\frac{h^3}{\\theta^3} + \\frac{7}{2}\\frac{h^5}{\\theta^5} - \\frac{3}{4}\\frac{h^7}{\\theta^7}\\right) \\right)\\,\\mathbb{I}\\left\\{h \\leq \\theta\\right\\}$$\n",
    "\n",
    "- Spherical model:\n",
    "$$c : h \\in [0,+\\infty) \\mapsto \\left(1 - \\left(\\frac{3}{2}\\frac{h}{\\theta} - \\frac{1}{2}\\frac{h^3}{\\theta^3}\\right) \\right)\\,\\mathbb{I}\\left\\{h \\leq \\theta\\right\\}$$\n",
    "\n",
    "- Truncated Power Law model:\n",
    "$$c : h \\in [0,+\\infty) \\mapsto \\left(1 - h/\\theta \\right)^{\\frac{3}{2}}\\,\\mathbb{I}\\left\\{h \\leq \\theta\\right\\},$$\n",
    "where $\\theta \\in \\mathbb{R}_+^*$."
   ]
  },
  {
   "cell_type": "code",
   "execution_count": 11,
   "id": "47631b06",
   "metadata": {},
   "outputs": [],
   "source": [
    "def model_cov_func(h, theta, cov_type):\n",
    "    if cov_type == 1: # Gaussian\n",
    "        return np.exp(-(h**2)/(theta**2))\n",
    "    elif cov_type == 2: # exponential\n",
    "        return np.exp(-h/theta)\n",
    "    elif cov_type == 3: # cubic\n",
    "        if h >= theta:\n",
    "            return 0\n",
    "        else:\n",
    "            return 1 - ( 7*(h/theta)**2 - 8.75*(h/theta)**3 + 3.5*(h/theta)**5 - 0.75*(h/theta)**7 )\n",
    "    elif cov_type == 4: # spherical\n",
    "        if h >= theta:\n",
    "            return 0\n",
    "        else:\n",
    "            return 1 - ( 1.5*(h/theta) - 0.5*(h/theta)**3 )\n",
    "    elif cov_type == 5: # truncated power law\n",
    "        if h >= theta:\n",
    "            return 0\n",
    "        else:\n",
    "            nu = 1.5\n",
    "            return (1 - (h/theta))**nu"
   ]
  },
  {
   "cell_type": "markdown",
   "id": "8f9b81fb",
   "metadata": {},
   "source": [
    "### Covariance matrix at sampled points"
   ]
  },
  {
   "cell_type": "markdown",
   "id": "90bce117",
   "metadata": {},
   "source": [
    "$\\Sigma(\\mathbf{s}_d)=Var(\\mathbf{X}(\\mathbf{s}_d)) = (Cov(X_{s_i},X_{s_j}))_{i, j \\leq d}$"
   ]
  },
  {
   "cell_type": "code",
   "execution_count": 12,
   "id": "33b8d8ec",
   "metadata": {},
   "outputs": [],
   "source": [
    "def construct_par_cov_mat(list_points, theta, cov_type):\n",
    "    d = len(list_points)\n",
    "    par_cov_mat = np.zeros((d, d))\n",
    "    for i in range(d):\n",
    "        for j in range(i, d):\n",
    "            h = np.sqrt((list_points[i][0] - list_points[j][0])**2 + (list_points[i][1] - list_points[j][1])**2)\n",
    "            par_cov_mat[i][j] = model_cov_func(h, theta, cov_type)\n",
    "            par_cov_mat[j][i] = par_cov_mat[i][j]\n",
    "    return par_cov_mat"
   ]
  },
  {
   "cell_type": "markdown",
   "id": "8b825753",
   "metadata": {},
   "source": [
    "### Covariance vector at sampled points"
   ]
  },
  {
   "cell_type": "markdown",
   "id": "499c4221",
   "metadata": {},
   "source": [
    "$\\mathbf{c}_d(s)=(Cov(X_s,X_{s_1}),\\; \\ldots,\\; Cov(X_s, X_{s_d}))$"
   ]
  },
  {
   "cell_type": "code",
   "execution_count": 13,
   "id": "9e76b866",
   "metadata": {},
   "outputs": [],
   "source": [
    "def construct_par_cov_vect(s, list_points, theta, cov_type):\n",
    "    d = len(list_points)\n",
    "    par_cov_vect = np.zeros((d))\n",
    "    for i in range(d):\n",
    "        s_i = list_points[i]\n",
    "        h = np.sqrt((s[0] - s_i[0])**2 + (s[1] - s_i[1])**2)\n",
    "        par_cov_vect[i] = model_cov_func(h, theta, cov_type)\n",
    "    return par_cov_vect"
   ]
  },
  {
   "cell_type": "markdown",
   "id": "99d73bf4",
   "metadata": {},
   "source": [
    "### Parametric Kriging at point $s \\in S$"
   ]
  },
  {
   "cell_type": "markdown",
   "id": "1b889cc4",
   "metadata": {},
   "source": [
    "$$\\widehat{X}_{s,\\Lambda_d^*(s)}=\\lambda_{1}^*(s)X_{s_1}+\\ldots+\\lambda_{d}^*(s)X_{s_d},$$\n",
    "where $\\Lambda_d^*(s)=\\; \\Sigma(\\textbf{s}_d)^{-1}\\textbf{c}_d(s) \\in \\mathbb{R}^d$ (see Lemma 1)."
   ]
  },
  {
   "cell_type": "code",
   "execution_count": 14,
   "id": "dafe842d",
   "metadata": {},
   "outputs": [],
   "source": [
    "def parametric_kriging_s(s, data, list_points, precision_mat, theta, cov_type):\n",
    "    cov_vect_s = construct_par_cov_vect(s, list_points, theta, cov_type)\n",
    "    lambda_opt_s = np.dot(precision_mat, cov_vect_s)\n",
    "    pred_opt_s = np.dot(np.transpose(data), lambda_opt_s)\n",
    "    return pred_opt_s"
   ]
  },
  {
   "cell_type": "markdown",
   "id": "8f0fd2db",
   "metadata": {},
   "source": [
    "### Parametric Kriging over all domain $S$"
   ]
  },
  {
   "cell_type": "markdown",
   "id": "c264a3e6",
   "metadata": {},
   "source": [
    "Theoretical Kriging above for all $s \\in S$."
   ]
  },
  {
   "cell_type": "code",
   "execution_count": 15,
   "id": "6652c958",
   "metadata": {},
   "outputs": [],
   "source": [
    "def parametric_kriging_field(data, list_points_tot, n_S, list_points, theta, cov_type): # list_points_tot = points_S , n_S = Nx\n",
    "    pred_opt = np.zeros((n_S, n_S))\n",
    "    cov_mat = construct_par_cov_mat(list_points, theta, cov_type)\n",
    "    precision_mat = np.linalg.inv(cov_mat)\n",
    "    k = 0\n",
    "    l = 0\n",
    "    for s in list_points_tot:\n",
    "        pred_opt[k][l] = parametric_kriging_s(s, data, list_points, precision_mat, theta, cov_type)\n",
    "        l += 1\n",
    "        if l == n_S:\n",
    "            k += 1\n",
    "            l = 0\n",
    "    return pred_opt"
   ]
  },
  {
   "cell_type": "markdown",
   "id": "d4a71420",
   "metadata": {},
   "source": [
    "# Nonparametric Kriging"
   ]
  },
  {
   "cell_type": "markdown",
   "id": "9c969167",
   "metadata": {},
   "source": [
    "## Nonparametric Semi-Variogram Estimation"
   ]
  },
  {
   "cell_type": "markdown",
   "id": "405cddfd",
   "metadata": {},
   "source": [
    "The estimation of the semi-variogram function, is based on a \"large\" number $n\\geq 1$ of observations $\\textbf{X'}(\\sigma_n) := (X'_{\\sigma_1},\\; \\ldots,\\; X'_{\\sigma_n})$\n",
    "\n",
    "($\\texttt{X_train}$ et $\\texttt{points_train}$)."
   ]
  },
  {
   "cell_type": "markdown",
   "id": "f52ccdb3",
   "metadata": {},
   "source": [
    "### Neighbourhoods $N(h)$\n",
    "\n",
    "- $N(h) = \\left\\{(\\sigma_i, \\sigma_j), \\, \\|\\sigma_i - \\sigma_j\\| = h, \\, (i, j) \\in \\{ 1, \\cdots, n \\}^2\\right\\}$: set of pairs of sites that are at distance $h$ from one another\n",
    "\n",
    "- $n_h = \\vert N(h)\\vert$: cardinality of $N(h)$ (notice that $n_0=n$)"
   ]
  },
  {
   "cell_type": "markdown",
   "id": "32aab7c4",
   "metadata": {},
   "source": [
    "Function returns:\n",
    "\n",
    "- $\\texttt{Nh} = \\left\\{X_{\\sigma_i}X_{\\sigma_j}, (\\sigma_i, \\sigma_j) \\in N(h)\\right\\}$: already the square of the difference (used in the semi-variogram estimation function) for the pairs of sites at distance $h$ from one another\n",
    "\n",
    "- $n_h = \\vert N(h) \\vert$"
   ]
  },
  {
   "cell_type": "code",
   "execution_count": 16,
   "id": "7afa25c7",
   "metadata": {},
   "outputs": [],
   "source": [
    "def N_h(dist, data, list_points):\n",
    "    nh = 0\n",
    "    Nh = list()\n",
    "    n = len(list_points)\n",
    "    for i in range(n):\n",
    "        for j in range(n):\n",
    "            h = np.sqrt((list_points[i][0] - list_points[j][0])**2 + (list_points[i][1] - list_points[j][1])**2)\n",
    "            if h == dist:\n",
    "                nh += 1\n",
    "                Nh.append((data[i] - data[j])**2)\n",
    "    return Nh, nh"
   ]
  },
  {
   "cell_type": "markdown",
   "id": "b8eac1ff",
   "metadata": {},
   "source": [
    "### List of distances $\\mathcal{H}_n$\n",
    "\n",
    "$\\mathcal{H}_n = \\{\\vert\\vert \\sigma_i-\\sigma_j\\vert\\vert:\\; (i,j)\\in \\{1, \\cdots, n \\}^2\\}$: set of observed lags (all possible lags observable on the dyadic grid)."
   ]
  },
  {
   "cell_type": "code",
   "execution_count": 17,
   "id": "e40bf440",
   "metadata": {},
   "outputs": [],
   "source": [
    "def list_distance(list_points):\n",
    "    list_dist = list()\n",
    "    n = len(list_points)\n",
    "    for i in range(n):\n",
    "        for j in range(i, n):\n",
    "            h = np.sqrt((list_points[i][0] - list_points[j][0])**2 + (list_points[i][1] - list_points[j][1])**2)\n",
    "            if not h in list_dist:\n",
    "                list_dist.append(h)\n",
    "    return list_dist"
   ]
  },
  {
   "cell_type": "markdown",
   "id": "40e648c1",
   "metadata": {},
   "source": [
    "### Nonparametric Estimated Semi-Variogram Function (at Observed Lags)"
   ]
  },
  {
   "cell_type": "markdown",
   "id": "e96f8893",
   "metadata": {},
   "source": [
    "#### Semi-Variogram function estimated for one lag $h \\in \\mathcal{H}_n$\n",
    "\n",
    "$\\widehat{\\gamma}(h)=\\frac{1}{2 n_h}\\sum\\limits_{(\\sigma_i, \\sigma_j) \\in N(h)} (X_{\\sigma_i} - X_{\\sigma_j})^2$.\n",
    "\n",
    "Depends of maximum distance: if $n_h < \\nu n$, $\\widehat{\\gamma}(h)=1$ and $\\widehat{\\gamma}(h)=\\frac{1}{2 n_h}\\sum\\limits_{(\\sigma_i, \\sigma_j) \\in N(h)} (X_{\\sigma_i} - X_{\\sigma_j})^2$, otherwise."
   ]
  },
  {
   "cell_type": "code",
   "execution_count": 18,
   "id": "a919deea",
   "metadata": {},
   "outputs": [],
   "source": [
    "def var_est(dist, data, list_points, nu):\n",
    "    Nh, nh = N_h(dist, data, list_points)\n",
    "    n = data.shape[0]\n",
    "    if nh < nu*n and dist != 0:\n",
    "        return 1\n",
    "    return 1/(2 * nh) * np.sum(Nh)"
   ]
  },
  {
   "cell_type": "markdown",
   "id": "5e2a6e06",
   "metadata": {},
   "source": [
    "#### List of all semi-variogram for all observed lags\n",
    "\n",
    "- allows to reduce computational time: estimation of semi-variogram function at $h \\in \\mathcal{H}_n$ only once for each observed lag and keeping in memory each value $\\widehat{\\gamma}(h)$.\n",
    "\n",
    "- Depends of maximum distance: if $n_h < \\nu n$, $\\widehat{\\gamma}(h)=1$ and $\\widehat{\\gamma}(h)=\\frac{1}{2 n_h}\\sum\\limits_{(\\sigma_i, \\sigma_j) \\in N(h)} (X_{\\sigma_i} - X_{\\sigma_j})^2$, otherwise."
   ]
  },
  {
   "cell_type": "code",
   "execution_count": 19,
   "id": "a843b2aa",
   "metadata": {},
   "outputs": [],
   "source": [
    "def construct_list_variograms(list_dist, data, list_points, nu):\n",
    "    list_var = np.zeros(len(list_dist))\n",
    "    i = 0\n",
    "    for h in list_dist:\n",
    "        list_var[i] = var_est(h, data, list_points, nu)\n",
    "        if list_var[i] == 1:\n",
    "            break;\n",
    "        i+=1\n",
    "    return list_var"
   ]
  },
  {
   "cell_type": "markdown",
   "id": "91a92cae",
   "metadata": {},
   "source": [
    "### Estimated Semi-Variogram Function for Unobserved Lags"
   ]
  },
  {
   "cell_type": "markdown",
   "id": "0d4cc986",
   "metadata": {},
   "source": [
    "Extrapolation of the empirical semi-variogram function $\\widehat{\\gamma}(h)$ at unobserved lags $h\\in[0,\\sqrt{2}-2^{-j_1}]\\setminus \\mathcal{H}_n$ by means of a piecewise constant estimator (the 1 NN estimator):\n",
    "$\\widehat{\\gamma}(h)=\\widehat{\\gamma}(l_h)$, where $l_h=argmin_{l\\in \\mathcal{H}_n}\\vert\\vert h-l \\vert\\vert$ (breaking ties in an arbitrary fashion)."
   ]
  },
  {
   "cell_type": "markdown",
   "id": "fa5040d6",
   "metadata": {},
   "source": [
    "Function returns the Nearet Neighbour lag $l \\in \\mathcal{H}_n$ for an unobserved lag $h$."
   ]
  },
  {
   "cell_type": "code",
   "execution_count": 20,
   "id": "19a09798",
   "metadata": {},
   "outputs": [],
   "source": [
    "def nearest_neighb(dist, list_dist):\n",
    "    min_h = np.abs(list_dist[0] - dist)\n",
    "    argmin_h = list_dist[0]\n",
    "    for i in range(1, len(list_dist)):\n",
    "        if np.abs(list_dist[i]-dist) <= min_h:\n",
    "            min_h = np.abs(list_dist[i]-dist)\n",
    "            argmin_h = list_dist[i]\n",
    "    return argmin_h"
   ]
  },
  {
   "cell_type": "markdown",
   "id": "52b33053",
   "metadata": {},
   "source": [
    "## Nonparametric Kriging (Subsection 3.3)"
   ]
  },
  {
   "cell_type": "markdown",
   "id": "2082a320",
   "metadata": {},
   "source": [
    "Equipped with the nonparametric semi-variogram function estimator computed above on the training data, we now address the simple Kriging problem. Let $d\\geq 1$ and consider arbitrary pairwise distinct sites $s_1,\\; \\ldots,\\; s_d$ in $S=[0,1]^2$. The goal is to predict the value $X_s$ taken by $X$ at any site $s\\in S$ based on $(X_{s_1},\\; \\ldots,\\; X_{s_d})$."
   ]
  },
  {
   "cell_type": "markdown",
   "id": "19d91c20",
   "metadata": {},
   "source": [
    "### Empirical semi-variogram matrix at sampled points"
   ]
  },
  {
   "cell_type": "code",
   "execution_count": 21,
   "id": "7a5c2464",
   "metadata": {},
   "outputs": [],
   "source": [
    "def construct_nonpar_var_mat(list_var, list_points, list_dist):\n",
    "    d = len(list_points)\n",
    "    nonpar_var_mat = np.zeros((d+1, d+1))\n",
    "    for i in range(d):\n",
    "        for j in range(i, d):\n",
    "            h = np.sqrt((list_points[i][0] - list_points[j][0])**2 + (list_points[i][1] - list_points[j][1])**2)\n",
    "            if h in list_dist:\n",
    "                ind_h = list_dist.index(h)\n",
    "                nonpar_var_mat[i, j] = list_var[ind_h]\n",
    "                nonpar_var_mat[j, i] = nonpar_var_mat[i, j]\n",
    "            else:\n",
    "                l = nearest_neighb(h, list_dist)\n",
    "                ind_l = list_dist.index(l)\n",
    "                nonpar_var_mat[i, j] = list_var[ind_l]\n",
    "                nonpar_var_mat[j, i] = nonpar_var_mat[i, j]\n",
    "    nonpar_var_mat[d, :d] = np.ones(d)\n",
    "    nonpar_var_mat[:d, d] = np.ones(d).T\n",
    "    return nonpar_var_mat"
   ]
  },
  {
   "cell_type": "markdown",
   "id": "9515dc09",
   "metadata": {},
   "source": [
    "### Empirical semi-variogram vector at sampled points"
   ]
  },
  {
   "cell_type": "code",
   "execution_count": 22,
   "id": "6c0d3e78",
   "metadata": {},
   "outputs": [],
   "source": [
    "def construct_nonpar_var_vect(s, list_var, list_points, list_dist):\n",
    "    d = len(list_points)\n",
    "    nonpar_var_vect = np.zeros((d+1))\n",
    "    for i in range(d):\n",
    "        s_i = list_points[i]\n",
    "        h = np.sqrt((s[0] - s_i[0])**2 + (s[1] - s_i[1])**2)\n",
    "        if h in list_dist:\n",
    "            ind_h = list_dist.index(h)\n",
    "            nonpar_var_vect[i] = list_var[ind_h]\n",
    "        else:\n",
    "            l = nearest_neighb(h, list_dist)\n",
    "            ind_l = list_dist.index(l)\n",
    "            nonpar_var_vect[i] = list_var[ind_l]\n",
    "    nonpar_var_vect[d] = 1\n",
    "    return nonpar_var_vect"
   ]
  },
  {
   "cell_type": "markdown",
   "id": "1a425198",
   "metadata": {},
   "source": [
    "### Nonparametric Kriging at point $s \\in S$"
   ]
  },
  {
   "cell_type": "code",
   "execution_count": 23,
   "id": "72b1b499",
   "metadata": {},
   "outputs": [],
   "source": [
    "def nonparametric_kriging_s(s, data, list_var, list_points, list_dist, precision_mat):\n",
    "    var_vect_s = construct_nonpar_var_vect(s, list_var, list_points, list_dist)\n",
    "    lambda_opt_s = np.dot(precision_mat, var_vect_s)\n",
    "    pred_opt_s = np.dot(np.transpose(data), lambda_opt_s[:-1])\n",
    "    return pred_opt_s"
   ]
  },
  {
   "cell_type": "markdown",
   "id": "17293f89",
   "metadata": {},
   "source": [
    "### Nonparametric Kriging over all domain $S$"
   ]
  },
  {
   "cell_type": "markdown",
   "id": "f43e6605",
   "metadata": {},
   "source": [
    "Empirical Kriging above for all $s \\in S$: $f_{\\widehat{\\Lambda}_d}(s, \\mathbf{X}(\\mathbf{s}_d))$."
   ]
  },
  {
   "cell_type": "code",
   "execution_count": 24,
   "id": "1c259a31",
   "metadata": {},
   "outputs": [],
   "source": [
    "def nonparametric_kriging_field(data, list_points_tot, n_S, list_var, list_points, list_dist, reg):\n",
    "    pred_opt = np.zeros((n_S, n_S))\n",
    "    var_mat = construct_nonpar_var_mat(list_var, list_points, list_dist)\n",
    "    \n",
    "    d = len(list_points)\n",
    "    precision_mat = np.linalg.inv(var_mat + reg*np.eye(d+1))\n",
    "    \n",
    "    k = 0\n",
    "    l = 0\n",
    "    for s in list_points_tot:\n",
    "        pred_opt[k][l] = nonparametric_kriging_s(s, data, list_var, list_points, list_dist, precision_mat)\n",
    "        l += 1\n",
    "        if l == n_S:\n",
    "            k += 1\n",
    "            l = 0\n",
    "    return pred_opt"
   ]
  },
  {
   "cell_type": "markdown",
   "id": "4e4a587e",
   "metadata": {},
   "source": [
    "# Results on Real Data"
   ]
  },
  {
   "cell_type": "markdown",
   "id": "bf72b57f",
   "metadata": {},
   "source": [
    "Repeat experiments for  $92$  independent couple of datasets. For each experience, keep in memory both MSE and both MSE maps:\n",
    "\n",
    "- 1: creation of domain $S$, dyadic grid of observations for training step, observation samples for prediction step\n",
    "\n",
    "- 2: extract data for both training field $X$ and prediction field $X'$\n",
    "\n",
    "- 3: Parametric Kriging with MSE computation and Quadratic Difference field (MSE map)\n",
    "\n",
    "- 4: Nonparametric Kriging with MSE computation and Quadratic Difference field (MSE map), with first, computation of list of observable distances on dyadic grid"
   ]
  },
  {
   "cell_type": "code",
   "execution_count": 30,
   "id": "7f5ab953",
   "metadata": {},
   "outputs": [
    {
     "data": {
      "image/png": "[encoded data removed]",
      "text/plain": [
       "<Figure size 432x360 with 2 Axes>"
      ]
     },
     "metadata": {
      "needs_background": "light"
     },
     "output_type": "display_data"
    },
    {
     "data": {
      "image/png": "[encoded data removed]",
      "text/plain": [
       "<Figure size 432x360 with 2 Axes>"
      ]
     },
     "metadata": {
      "needs_background": "light"
     },
     "output_type": "display_data"
    },
    {
     "name": "stdout",
     "output_type": "stream",
     "text": [
      "exp nb:  0\n",
      "1.585931926873375\n"
     ]
    },
    {
     "data": {
      "image/png": "[encoded data removed]",
      "text/plain": [
       "<Figure size 432x360 with 2 Axes>"
      ]
     },
     "metadata": {
      "needs_background": "light"
     },
     "output_type": "display_data"
    },
    {
     "data": {
      "image/png": "[encoded data removed]",
      "text/plain": [
       "<Figure size 432x360 with 2 Axes>"
      ]
     },
     "metadata": {
      "needs_background": "light"
     },
     "output_type": "display_data"
    },
    {
     "name": "stdout",
     "output_type": "stream",
     "text": [
      "3.3480602933698385\n"
     ]
    },
    {
     "data": {
      "image/png": "[encoded data removed]",
      "text/plain": [
       "<Figure size 432x360 with 2 Axes>"
      ]
     },
     "metadata": {
      "needs_background": "light"
     },
     "output_type": "display_data"
    },
    {
     "data": {
      "image/png": "[encoded data removed]",
      "text/plain": [
       "<Figure size 432x360 with 2 Axes>"
      ]
     },
     "metadata": {
      "needs_background": "light"
     },
     "output_type": "display_data"
    },
    {
     "name": "stdout",
     "output_type": "stream",
     "text": [
      "exp nb:  25\n",
      "exp nb:  50\n",
      "exp nb:  75\n"
     ]
    },
    {
     "data": {
      "image/png": "[encoded data removed]",
      "text/plain": [
       "<Figure size 432x360 with 2 Axes>"
      ]
     },
     "metadata": {
      "needs_background": "light"
     },
     "output_type": "display_data"
    },
    {
     "data": {
      "image/png": "[encoded data removed]",
      "text/plain": [
       "<Figure size 432x360 with 2 Axes>"
      ]
     },
     "metadata": {
      "needs_background": "light"
     },
     "output_type": "display_data"
    },
    {
     "name": "stdout",
     "output_type": "stream",
     "text": [
      "Parametric\n",
      "Mean MSE:  1.073017111852937\n",
      "Standard Deviation MSE:  0.3354772730302491\n",
      "NonParametric\n",
      "Mean MSE:  2.94411367803218\n",
      "Standard Deviation MSE:  1.9308697507116568\n"
     ]
    }
   ],
   "source": [
    "# TRAINING DATA\n",
    "\n",
    "field_train = creation_random_field(N, lignes, \"20050601\")\n",
    "\n",
    "points_train, X_train = creation_training_dataset(n, points_S, field_train, step)\n",
    "\n",
    "# TESTING DATA\n",
    "\n",
    "field_test = creation_random_field(N, lignes, \"20050602\")\n",
    "\n",
    "seed_test_obs = 234\n",
    "points_test, X_test = creation_testing_dataset(d, points_S, field_test, seed_test_obs)\n",
    "\n",
    "# AFFICHAGE\n",
    "\n",
    "point_min_x = points_S[:, 0].min()\n",
    "point_max_x = points_S[:, 0].max()\n",
    "point_min_y = points_S[:, 1].min()\n",
    "point_max_y = points_S[:, 1].max()\n",
    "\n",
    "bounds_extent = [point_min_x, point_max_x, point_min_y, point_max_y]\n",
    "\n",
    "# Training\n",
    "\n",
    "field_train_aff = affichage_field(points_S, field_train, points_train, 0, True)\n",
    "\n",
    "# Testing\n",
    "\n",
    "field_test_aff = affichage_field(points_S, field_test, points_test, 1, True)\n",
    "\n",
    "\n",
    "\n",
    "# EXPERIENCES\n",
    "\n",
    "n_exp = 92\n",
    "\n",
    "mois = \"06\"\n",
    "jour = 0\n",
    "\n",
    "list_parametric_kriging = list()\n",
    "list_parametric_MSE = list()\n",
    "list_nonparametric_kriging = list()\n",
    "list_nonparametric_MSE = list()\n",
    "\n",
    "H_n_1 = list_distance(points_train)\n",
    "H_n_tri = H_n_1.copy()\n",
    "H_n_tri.sort()\n",
    "\n",
    "for exp in range(n_exp):\n",
    "    \n",
    "    if exp%25 == 0:\n",
    "            print(\"exp nb: \", exp)\n",
    "    \n",
    "    \n",
    "    jour += 1\n",
    "    if exp == 30:\n",
    "        mois = \"07\"\n",
    "        jour = 1\n",
    "    elif exp == 61:\n",
    "        mois = \"08\"\n",
    "        jour = 1\n",
    "    \n",
    "    if jour < 10:\n",
    "        jour_str = \"0\" + str(jour)\n",
    "    else:\n",
    "        jour_str = str(jour)\n",
    "    date_train = \"2004\" + mois + jour_str\n",
    "    date_test = \"2005\" + mois + jour_str\n",
    "    \n",
    "    \n",
    "    # TRAINING DATA\n",
    "    field_train = creation_random_field(N, lignes, date_train)\n",
    "    points_train, X_train = creation_training_dataset(n, points_S, field_train, step)\n",
    "\n",
    "    # TESTING DATA\n",
    "    field_test = creation_random_field(N, lignes, date_test)\n",
    "    seed_test_obs = 234\n",
    "    points_test, X_test = creation_testing_dataset(d, points_S, field_test, seed_test_obs)\n",
    "\n",
    "    # Training\n",
    "    field_train_aff = affichage_field(points_S, field_train, points_train, 0, False)\n",
    "\n",
    "    # Testing\n",
    "    field_test_aff = affichage_field(points_S, field_test, points_test, 1, False)\n",
    "\n",
    "    # PARAMETRIC KRIGING\n",
    "    X_par_kri = parametric_kriging_field(X_test, points_S, Nx, points_test, theta, cov_type)\n",
    "    MSE_par_kri = np.sum( (X_par_kri - field_test_aff)**2 /N )\n",
    "    par_quad_diff = (field_test_aff - X_par_kri)**2\n",
    "    if exp == 0:\n",
    "        print(MSE_par_kri)\n",
    "        plotting_field(X_par_kri, points_test, bounds_extent, [0, 0])\n",
    "        plotting_field(par_quad_diff, points_test, bounds_extent, [1, 0])\n",
    "        \n",
    "    # NONPARAMETRIC KRIGING\n",
    "    List_variograms_Hn_tri = construct_list_variograms(H_n_tri, X_train, points_train, nu)\n",
    "    X_nonpar_kri = nonparametric_kriging_field(X_test, points_S, Nx, List_variograms_Hn_tri, points_test, H_n_tri, reg)\n",
    "    MSE_nonpar_kri = np.sum( (X_nonpar_kri - field_test_aff)**2 /N )\n",
    "    nonpar_quad_diff = (field_test_aff - X_nonpar_kri)**2\n",
    "    if exp == 0:\n",
    "        print(MSE_nonpar_kri)\n",
    "        plotting_field(X_nonpar_kri, points_test, bounds_extent, [0, 1])\n",
    "        plotting_field(nonpar_quad_diff, points_test, bounds_extent, [1, 1])\n",
    "    \n",
    "    list_parametric_kriging.append(par_quad_diff)\n",
    "    list_parametric_MSE.append(MSE_par_kri)\n",
    "    list_nonparametric_kriging.append(nonpar_quad_diff)\n",
    "    list_nonparametric_MSE.append(MSE_nonpar_kri)\n",
    "\n",
    "    \n",
    "array_parametric_kriging = np.array(list_parametric_kriging)\n",
    "array_parametric_MSE = np.array(list_parametric_MSE)\n",
    "array_nonparametric_kriging = np.array(list_nonparametric_kriging)\n",
    "array_nonparametric_MSE = np.array(list_nonparametric_MSE)\n",
    "    \n",
    "Quad_Diff_MEAN_par = array_parametric_kriging.mean(axis = 0)\n",
    "plotting_field(Quad_Diff_MEAN_par, points_test, bounds_extent, params = [2, 0])\n",
    "    \n",
    "Quad_Diff_MEAN_nonpar = array_nonparametric_kriging.mean(axis = 0)\n",
    "plotting_field(Quad_Diff_MEAN_nonpar, points_test, bounds_extent, params = [2, 1])\n",
    "    \n",
    "print(\"Parametric\")\n",
    "print(\"Mean MSE: \", array_parametric_MSE.mean())\n",
    "print(\"Standard Deviation MSE: \", array_parametric_MSE.std())\n",
    "    \n",
    "print(\"NonParametric\")\n",
    "print(\"Mean MSE: \", array_nonparametric_MSE.mean())\n",
    "print(\"Standard Deviation MSE: \", array_nonparametric_MSE.std())"
   ]
  }
 ],
 "metadata": {
  "kernelspec": {
   "display_name": "Python 3",
   "language": "python",
   "name": "python3"
  },
  "language_info": {
   "codemirror_mode": {
    "name": "ipython",
    "version": 3
   },
   "file_extension": ".py",
   "mimetype": "text/x-python",
   "name": "python",
   "nbconvert_exporter": "python",
   "pygments_lexer": "ipython3",
   "version": "3.8.8"
  }
 },
 "nbformat": 4,
 "nbformat_minor": 5
}
